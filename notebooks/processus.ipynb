{
  "cells": [
    {
      "cell_type": "markdown",
      "metadata": {},
      "source": [
        "Part 0 : Preparing the dataset"
      ]
    },
    {
      "cell_type": "code",
      "execution_count": null,
      "metadata": {
        "vscode": {
          "languageId": "plaintext"
        }
      },
      "outputs": [],
      "source": [
        "# TODO"
      ]
    },
    {
      "cell_type": "markdown",
      "metadata": {},
      "source": [
        "Part A : Classical convolution layer"
      ]
    },
    {
      "cell_type": "code",
      "execution_count": null,
      "metadata": {
        "vscode": {
          "languageId": "plaintext"
        }
      },
      "outputs": [],
      "source": [
        "Bloc 1\n",
        "1. Input        [1x28x28]\n",
        "2. Convolution  [16x28x28] \n",
        "    Kernel size de 5 pixels avec un padding de 2\n",
        "    Depth 16 (1 input channel to 16 output)\n",
        "3. Batch Normalization\n",
        "4. Fonction d'activation (ReLU)\n",
        "5. Max-Pool     [16x14x14]\n",
        "    Kernel size 2 pixels\n",
        "    Stride???"
      ]
    },
    {
      "cell_type": "code",
      "execution_count": null,
      "metadata": {
        "vscode": {
          "languageId": "plaintext"
        }
      },
      "outputs": [],
      "source": [
        "# TODO"
      ]
    },
    {
      "cell_type": "code",
      "execution_count": null,
      "metadata": {
        "vscode": {
          "languageId": "plaintext"
        }
      },
      "outputs": [],
      "source": [
        "Bloc 2\n",
        "1. Input        [16x14x14]\n",
        "2. Convolution  [32x14x14] \n",
        "    Kernel size de 5 pixels avec un padding de 2\n",
        "    Depth 32 (16 input channel to 32 output)\n",
        "3. Batch Normalization\n",
        "4. Fonction d'activation (ReLU)\n",
        "5. Max-Pool     [32x7x7]\n",
        "    Kernel size 2 pixels"
      ]
    },
    {
      "cell_type": "code",
      "execution_count": null,
      "metadata": {
        "vscode": {
          "languageId": "plaintext"
        }
      },
      "outputs": [],
      "source": [
        "# TODO"
      ]
    }
  ],
  "metadata": {
    "kernelspec": {
      "display_name": "Python 3",
      "language": "python",
      "name": "python3"
    },
    "language_info": {
      "codemirror_mode": {
        "name": "ipython",
        "version": 3
      },
      "file_extension": ".py",
      "mimetype": "text/x-python",
      "name": "python",
      "nbconvert_exporter": "python",
      "pygments_lexer": "ipython3",
      "version": "3.11.7"
    }
  },
  "nbformat": 4,
  "nbformat_minor": 0
}
